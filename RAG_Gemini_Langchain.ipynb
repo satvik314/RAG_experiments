{
  "nbformat": 4,
  "nbformat_minor": 0,
  "metadata": {
    "colab": {
      "provenance": [],
      "authorship_tag": "ABX9TyP/ynUsWN+mXi1vysJnXoMP",
      "include_colab_link": true
    },
    "kernelspec": {
      "name": "python3",
      "display_name": "Python 3"
    },
    "language_info": {
      "name": "python"
    }
  },
  "cells": [
    {
      "cell_type": "markdown",
      "metadata": {
        "id": "view-in-github",
        "colab_type": "text"
      },
      "source": [
        "<a href=\"https://colab.research.google.com/github/satvik314/RAG_experiments/blob/main/RAG_Gemini_Langchain.ipynb\" target=\"_parent\"><img src=\"https://colab.research.google.com/assets/colab-badge.svg\" alt=\"Open In Colab\"/></a>"
      ]
    },
    {
      "cell_type": "code",
      "execution_count": null,
      "metadata": {
        "id": "bN5tUh3n76Eq"
      },
      "outputs": [],
      "source": [
        "!pip install --quiet langchain langchain-google-genai unstructured pypdf"
      ]
    },
    {
      "cell_type": "code",
      "source": [
        "import os\n",
        "from getpass import getpass\n",
        "\n",
        "os.environ['GOOGLE_API_KEY'] = getpass()"
      ],
      "metadata": {
        "colab": {
          "base_uri": "https://localhost:8080/"
        },
        "id": "ekMrCSa_8JtK",
        "outputId": "9e3b02e2-2789-463d-c260-d6665a97f1c0"
      },
      "execution_count": null,
      "outputs": [
        {
          "name": "stdout",
          "output_type": "stream",
          "text": [
            "··········\n"
          ]
        }
      ]
    },
    {
      "cell_type": "code",
      "source": [
        "from langchain import PromptTemplate\n",
        "from langchain.document_loaders import WebBaseLoader, UnstructuredPDFLoader, PyPDFLoader\n",
        "from langchain.schema import StrOutputParser\n",
        "from langchain.schema.prompt_template import format_document"
      ],
      "metadata": {
        "id": "KDoWSq4V8Vs0"
      },
      "execution_count": null,
      "outputs": []
    },
    {
      "cell_type": "code",
      "source": [
        "#loading the data from the website\n",
        "loader = WebBaseLoader(\"https://buildfastwithai.com\")\n",
        "docs = loader.load()\n",
        "\n",
        "print(docs)"
      ],
      "metadata": {
        "colab": {
          "base_uri": "https://localhost:8080/"
        },
        "id": "X7V536EO8v1j",
        "outputId": "1f4e86d1-f296-4120-9860-1610279519f6"
      },
      "execution_count": null,
      "outputs": [
        {
          "output_type": "stream",
          "name": "stdout",
          "text": [
            "[Document(page_content='Build Fast with AI', metadata={'source': 'https://buildfastwithai.com', 'title': 'Build Fast with AI', 'description': 'Build Fast with AI - a vibrant community of AI builders, innovators, and enthusiasts. Whether you are an entrepreneur, a product manager, a developer, or anyone intrigued by AI, this is your platform to learn, grow, and innovate.', 'language': 'en'})]\n"
          ]
        }
      ]
    },
    {
      "cell_type": "code",
      "source": [
        "from langchain_google_genai import ChatGoogleGenerativeAI\n",
        "\n",
        "# load the model\n",
        "llm = ChatGoogleGenerativeAI(model = \"gemini-pro\",\n",
        "                             temperature = 0.7,\n",
        "                             top_p = 0.85\n",
        "                             )"
      ],
      "metadata": {
        "id": "gaiqNlVW9Hmt"
      },
      "execution_count": null,
      "outputs": []
    },
    {
      "cell_type": "markdown",
      "source": [
        "## Summarise the document"
      ],
      "metadata": {
        "id": "sasoJV_kRkFe"
      }
    },
    {
      "cell_type": "code",
      "source": [
        "# creating a prompt template\n",
        "\n",
        "doc_prompt = PromptTemplate.from_template(\"{page_content}\")\n",
        "\n",
        "llm_prompt_template = \"\"\"Write a concise summary of the following:\n",
        "\"{text}\"\n",
        "CONCISE SUMMARY:\n",
        "\"\"\"\n",
        "\n",
        "llm_prompt = PromptTemplate.from_template(llm_prompt_template)\n",
        "\n",
        "print(llm_prompt)"
      ],
      "metadata": {
        "colab": {
          "base_uri": "https://localhost:8080/"
        },
        "id": "RS8XcpOh9oic",
        "outputId": "b517f7e6-30e1-4ead-f317-4decc0c48b16"
      },
      "execution_count": null,
      "outputs": [
        {
          "output_type": "stream",
          "name": "stdout",
          "text": [
            "input_variables=['text'] template='Write a concise summaru of the following:\\n\"{text}\"\\nCONCISE SUMMARY: \\n'\n"
          ]
        }
      ]
    },
    {
      "cell_type": "code",
      "source": [
        "# Create stuff document chain using LCEL\n",
        "\n",
        "stuff_chain = (\n",
        "    # Extract data from the documents and add to the key `text`.\n",
        "    {\n",
        "        \"text\": lambda docs: \"\\n\\n\".join(\n",
        "            format_document(doc, doc_prompt) for doc in docs\n",
        "        )\n",
        "    }\n",
        "    | llm_prompt         # Prompt for Gemini\n",
        "    | llm                # Gemini function\n",
        "    | StrOutputParser()  # output parser\n",
        ")\n"
      ],
      "metadata": {
        "id": "p3S0INbQAg5V"
      },
      "execution_count": null,
      "outputs": []
    },
    {
      "cell_type": "code",
      "source": [
        "stuff_chain.invoke(docs)"
      ],
      "metadata": {
        "colab": {
          "base_uri": "https://localhost:8080/",
          "height": 106
        },
        "id": "ZiXPmznKBjEv",
        "outputId": "d5fb111d-3345-47f0-ccba-8c0a90a15ed4"
      },
      "execution_count": null,
      "outputs": [
        {
          "output_type": "execute_result",
          "data": {
            "text/plain": [
              "'- AI-powered tools can accelerate software development by automating repetitive tasks, generating code, and improving code quality.\\n- AI can assist in building faster and more reliable applications by identifying potential issues early, optimizing performance, and enhancing security.\\n- AI-driven insights can help developers make informed decisions, leading to improved productivity and efficiency.\\n- By leveraging AI, developers can focus on higher-level tasks, fostering innovation and creativity.\\n- AI-powered tools can enhance collaboration and communication among team members, streamlining the development process.'"
            ],
            "application/vnd.google.colaboratory.intrinsic+json": {
              "type": "string"
            }
          },
          "metadata": {},
          "execution_count": 10
        }
      ]
    },
    {
      "cell_type": "code",
      "source": [
        "#loading the data from the PDF\n",
        "loader = PyPDFLoader(\"/content/GenAI_CrashCourse_Info.pdf\")\n",
        "pdf_docs = loader.load()\n",
        "\n",
        "print(pdf_docs)"
      ],
      "metadata": {
        "colab": {
          "base_uri": "https://localhost:8080/"
        },
        "id": "tO4MInUbBy-9",
        "outputId": "c20905b9-ce50-48fa-8140-2436287d515b"
      },
      "execution_count": null,
      "outputs": [
        {
          "output_type": "stream",
          "name": "stdout",
          "text": [
            "[Document(page_content='Crash\\nCourse\\n-\\nGenerative\\nAI\\nTransform\\nYour\\nIdeas\\ninto\\nReal-W orld\\nApplications\\nwith\\nGenerative\\nAI\\nIntroduction\\n\"Step\\ninto\\nthe\\nfuturistic\\nworld\\nof\\nGenerative\\nAI\\nwith\\nour\\ncomprehensive\\n4-week\\ncourse.\\nThis\\nprogram\\nis\\nmeticulously\\ncrafted\\nto\\nprovide\\nyou\\nwith\\na\\nﬁrm\\ngrounding\\nin\\nPython\\nprogramming\\nand\\nGenerative\\nAI\\ntechnologies,\\nempowering\\nyou\\nto\\nbuild\\ninnovative\\napplications\\nthat\\ncan\\ntransform\\nindustries.\\nWith\\na\\nblend\\nof\\ntheoretical\\nknowledge\\nand\\nhands-on\\nexperience,\\nembark\\non\\na\\njourney\\nto\\nbecoming\\na\\nproﬁcient\\nAI\\ndeveloper.\"\\nWho\\ncan\\ntake\\nthis\\ncourse?\\nThis\\ncourse\\nis\\nmeticulously\\ndesigned\\nfor:\\n●\\nAspiring\\nAI\\nDevelopers\\nlooking\\nto\\nhone\\ntheir\\nskills\\nand\\nbuild\\ngroundbreaking\\napplications.\\n●\\nProfessionals\\naiming\\nto\\nleverage\\nAI\\ntechnology\\nto\\nenhance\\ntheir\\nindustry\\nexpertise.\\n●\\nStudents\\nand\\nHobbyists\\nseeking\\nto\\ndelve\\ndeep\\ninto\\nthe\\nfascinating\\nworld\\nof\\nAI.\\nNo\\nprior\\nexperience\\nin\\nAI\\nis\\nrequired,\\nbut\\na\\nbasic\\nunderstanding\\nof\\nPython\\nprogramming\\nwill\\nbe\\nbeneficial.\\nSalient\\nFeatures\\nWhen\\nyou\\nenroll\\nin\\nthis\\ncourse,\\nyou\\nembrace\\nan\\nopportunity\\nto:\\n●\\nDive\\ndeep\\ninto\\nproject-based\\nlearning,\\nenhancing\\nyour\\nhands-on\\nexperience.\\n●\\nConstruct\\ntwo\\nreal-world\\nprojects\\nthat\\nserve\\nas\\na\\ntestament\\nto\\nyour\\nacquired\\nskills.\\n●\\nBe\\nguided\\nby\\na\\ncurriculum\\nthat\\nstays\\nabreast\\nwith\\nthe\\nindustry\\ndemands,\\nequipping\\nyou\\nwith\\nthe\\nknowledge\\nand\\nskills\\nthat\\nemployers\\nvalue.\"', metadata={'source': '/content/GenAI_CrashCourse_Info.pdf', 'page': 0}), Document(page_content=\"Schedule\\nEmbark\\non\\na\\nrewarding\\nlearning\\nexpedition\\nstretched\\nacross\\nﬁve\\naction-packed\\nweeks.\\nEach\\nSaturday\\nfrom\\nOctober\\n7th\\nto\\nNovember\\n4th,\\nimmerse\\nyourself\\nin\\na\\n3-hour\\noﬄine\\nworkshop,\\ndesigned\\nto\\nfoster\\ninnovation\\nand\\nskill\\ndevelopment.\\nHere's\\nwhat\\nawaits\\nyou\\nweek\\nby\\nweek\\nW e e k\\nD a t e\\nT i t l e\\nA g e n d a\\nI t e m s\\nW e e k\\n1\\nF e b\\n1 0 t h ,\\n2 0 2 4\\nI n t r o d u c t i o n\\nt o\\nG e n\\nA I\\n&\\nC r a f t i n g\\ny o u r\\nF i r s t\\nA I\\nA p p l i c a t i o n\\n-\\nI n t r o d u c t i o n\\nt o\\nG e n e r a t i v e\\nA I :\\nu n d e r s t a n d i n g\\ni t s\\nc o r e\\np r i n c i p l e s ,\\na p p l i c a t i o n s ,\\na n d\\nf u t u r e\\nd i r e c t i o n s .\\n-\\nL e a r n i n g\\nt h e\\na r t\\no f\\np r o m p t\\ne n g i n e e r i n g\\nt o\\ni n t e r a c t\\np r o ﬁ c i e n t l y\\nw i t h\\nA I\\nm o d e l s .\\n-\\nG e t t i n g\\na c q u a i n t e d\\nw i t h\\nL a n g c h a i n :\\na\\np l a t f o r m\\nt h a t\\nf a c i l i t a t e s\\nt h e\\nc r e a t i o n\\no f\\nn a t u r a l\\nl a n g u a g e\\na p p l i c a t i o n s\\nu s i n g\\nG e n e r a t i v e\\nA I\\nm o d e l s .\\n-\\nW o r k s h o p\\no n\\nb u i l d i n g\\na n d\\nd e p l o y i n g\\ny o u r\\nﬁ r s t\\ns i m p l e\\nA I\\na p p l i c a t i o n .\\nW e e k\\n2\\nF e b\\n1 7 t h ,\\n2 0 2 4\\nB u i l d i n g\\nA I\\nC h a t b o t s\\n&\\nI n t e r a c t i v e\\nP D F\\nS o l u t i o n s\\n-\\nD e v e l o p i n g\\ns o p h i s t i c a t e d\\nA I\\nc h a t b o t s\\nt h a t\\nc a n\\nm a n a g e\\nc o m p l e x\\ns c e n a r i o s\\na n d\\np r o v i d e\\ne n g a g i n g\\nu s e r\\ne x p e r i e n c e s .\\n-\\nD e e p\\nd i v i n g\\ni n t o\\nt h e\\nC h a t G P T\\nm o d e l ,\\nl e a r n i n g\\nt o\\ng e n e r a t e\\nn a t u r a l\\nl a n g u a g e\\nr e s p o n s e s\\nf o r\\nc h a t b o t s .\\n-\\nC r e a t i n g\\na\\n' C h a t\\nw i t h\\nP D F '\\na p p l i c a t i o n :\\na\\nt o o l\\nt h a t\\ne n a b l e s\\nt h e\\ne x t r a c t i o n\\no f\\ni n f o r m a t i o n\\nf r o m\\nP D F\\nd o c u m e n t s\\nu s i n g\\nv e c t o r\\nd a t a b a s e s .\", metadata={'source': '/content/GenAI_CrashCourse_Info.pdf', 'page': 1}), Document(page_content='-\\nH a n d s - o n\\ns e s s i o n\\no n\\ni n t e g r a t i n g\\nA I\\nf u n c t i o n a l i t i e s\\ni n t o\\nc h a t b o t s\\nt o\\ne n h a n c e\\nt h e i r\\nc a p a b i l i t i e s .\\nW e e k\\n3\\nF e b\\n2 4 t h ,\\n2 0 2 4\\nF i n e\\nT u n i n g\\nM o d e l s\\no n\\ny o u r\\nD a t a\\n- G r a s p i n g\\nt h e\\nf u n d a m e n t a l s\\no f\\nﬁ n e - t u n i n g ,\\ni n c l u d i n g\\ni t s\\np u r p o s e\\na n d\\ni m p o r t a n c e\\ni n\\ne n h a n c i n g\\nt h e\\np e r f o r m a n c e\\no f\\nA I\\nm o d e l s .\\n-\\nL e a r n i n g\\nt o\\nﬁ n e - t u n e\\nt h e\\nG P T - 3 . 5\\nm o d e l ,\\nu n d e r s t a n d i n g\\ni t s\\na r c h i t e c t u r e ,\\na n d\\ne x p l o r i n g\\ni t s\\nc a p a b i l i t i e s\\ni n\\ng e n e r a t i n g\\nh u m a n - l i k e\\nt e x t .\\n-\\nG a i n i n g\\nh a n d s - o n\\ne x p e r i e n c e\\ni n\\nﬁ n e - t u n i n g\\no p e n - s o u r c e\\nm o d e l s\\ns u c h\\na s\\nL l a m a\\na n d\\nM i s t r a l ,\\na n d\\nu n d e r s t a n d i n g\\nt h e i r\\nu n i q u e\\nf e a t u r e s\\na n d\\na p p l i c a t i o n s .\\n-\\nE v a l u a t i n g\\nt h e\\np e r f o r m a n c e\\no f\\nﬁ n e - t u n e d\\nm o d e l s ,\\nu n d e r s t a n d i n g\\nk e y\\nm e t r i c s ,\\na n d\\nd e p l o y i n g\\nt h e s e\\nm o d e l s\\ni n\\nr e a l - w o r l d\\na p p l i c a t i o n s\\nW e e k\\n4\\nM a r c h\\n2 n d ,\\n2 0 2 4\\nD i v e r s e\\nA I\\nA p p l i c a t i o n s\\n&\\nC a r v i n g\\nY o u r\\nA I\\nP a t h\\n-\\nD e l v i n g\\ni n t o\\nm i s c e l l a n e o u s\\na p p l i c a t i o n s\\no f\\nA I :\\nf o c u s i n g\\no n\\nd a t a\\na n a l y s i s ,\\na u t o m a t i o n ,\\na n d\\nb e y o n d .\\n-\\nL e a r n i n g\\nt o\\ne n h a n c e\\nc h a t b o t\\nf u n c t i o n a l i t y\\na n d\\ni n t e r a c t i v i t y\\nu s i n g\\nc o d e\\ni n t e r p r e t e r s\\na n d\\no t h e r\\np l u g i n s .\\n-\\nU n d e r s t a n d i n g\\nt h e\\ne t h i c a l\\na n d\\ns e c u r i t y\\nd i m e n s i o n s\\no f\\nG e n e r a t i v e\\nA I ,\\nc o v e r i n g\\nt o p i c s\\nl i k e\\na u t h e n t i c i t y ,\\np r i v a c y ,\\na n d\\nb i a s .\\n-\\nD e v e l o p i n g\\na\\np e r s o n a l\\nA I\\nr o a d m a p :\\ns e t t i n g\\ng o a l s\\na n d', metadata={'source': '/content/GenAI_CrashCourse_Info.pdf', 'page': 2}), Document(page_content=\"p l o t t i n g\\na\\nc o u r s e\\nf o r\\na\\ns u c c e s s f u l\\nc a r e e r\\ni n\\nt h e\\nA I\\ni n d u s t r y .\\nApplications\\nyou\\nwill\\ndevelop\\nDuring\\nthis\\ncourse,\\nyou\\nwill\\nhave\\nthe\\nopportunity\\nto\\nbuild\\nvarious\\nreal-world\\napplications\\nthat\\nintegrate\\nthe\\npower\\nof\\nGenerative\\nAI.\\nHere's\\na\\nglimpse\\nof\\nwhat\\nyou\\nwill\\nbe\\ncreating:\\n \\nEmail\\nGeneration\\nApp\\n●\\nIn\\nthis\\nmodule,\\nyou\\nwill\\ncreate\\nan\\napplication\\nthat\\nutilizes\\nAI\\nto\\ngenerate\\nemail\\ndrafts\\nautomatically,\\nsaving\\ntime\\nand\\nenhancing\\nproductivity.\\nLearn\\nthe\\nnuances\\nof\\ncrafting\\nemails\\nthat\\nresonate\\nwith\\nthe\\nrecipients\\nand\\nconvey\\nthe\\nintended\\nmessage\\neffectively.\\n \\nChatGPT\\nReplica\\n●\\nGet\\nhands-on\\nexperience\\nbuilding\\na\\nreplica\\nof\\nthe\\nrenowned\\nChatGPT,\\nunderstanding\\nits\\nunderlying\\nmechanisms.\\nThis\\nmodule\\nallows\\nyou\\nto\\ndelve\\ndeeper\\ninto\\nthe\\nworld\\nof\\nAI\\nchatbots,\\nenhancing\\nyour\\nskills\\nin\\ncreating\\nchatbots\\nthat\\ncan\\nhold\\nnuanced\\nand\\ndetailed\\nconversations.\\n \\nStory\\nTelling\\nApp\\n●\\nUnleash\\nyour\\ncreativity\\nby\\ndeveloping\\na\\nstory-telling\\napp,\\nwhere\\nAI\\nhelps\\nto\\nweave\\ncompelling\\nnarratives.\\nThis\\nmodule\\nwill\\nbe\\na\\nperfect\\nblend\\nof\\ntechnology\\nand\\ncreativity,\\noffering\\ninsights\\ninto\\nhow\\nAI\\ncan\\nbe\\nused\\nas\\na\\ntool\\nto\\nfoster\\ncreativity\\nand\\nstorytelling.\\n \\nChat\\nwith\\nPDF\\n●\\nThis\\nmodule\\nteaches\\nyou\\nhow\\nto\\ncreate\\nan\\napplication\\nthat\\ncan\\ninteract\\nwith\\nPDF\\nﬁles,\\nextracting\\nand\\nutilizing\\ninformation\\nseamlessly.\\nLearn\\nto\\nbuild\\na\\ntool\\nthat\\ncan\\nrevolutionize\\nhow\\nwe\\ninteract\\nwith\\ndocuments,\\nbringing\\na\\nnew\\ndimension\\nto\\ndata\\nextraction\\nand\\nanalysis.\\nYouTube\\nBot\\n●\\nThis\\nmodule\\nteaches\\nyou\\nhow\\nto\\ncreate\\nan\\napplication\\nthat\\ncan\\ninteract\\nwith\\nYouTube\\nvideos,\\nsummarizing\\nand\\nanswering\\nquestions\\nabout\\nthe\\ncontent.\\nLearn\\nto\\nbuild\\na\\ntool\\nthat\\ncan\\ntransform\\nhow\\nwe\\nwatch\\nand\\nlearn\\nfrom\\nvideos,\\nbringing\\na\\nnew\\ndimension\\nto\\ninformation\\nextraction\\nand\\nanalysis.\", metadata={'source': '/content/GenAI_CrashCourse_Info.pdf', 'page': 3}), Document(page_content='...and\\nmany\\nmore\\nexciting\\napplications\\nthat\\nintegrate\\nAI\\nto\\nsolve\\nreal-world\\nproblems\\nand\\nenhance\\nyour\\nskills\\nin\\nthe\\never-evolving\\nfield\\nof\\nArtificial\\nIntelligence.\\nRemember,\\neach\\nproject\\nyou\\nundertake\\nnot\\nonly\\nadds\\nto\\nyour\\nportfolio\\nbut\\nalso\\nsharpens\\nyour\\nskills,\\npreparing\\nyou\\nfor\\na\\nrewarding\\ncareer\\nin\\nthe\\nAI\\ndomain.\\nHow\\nwill\\nthis\\ncourse\\nbenefit\\nyou?\\nBy\\nthe\\nend\\nof\\nthis\\ncourse,\\nyou\\nwill\\nhave:\\n●\\nDeveloped\\na\\nsolid\\nfoundation\\nin\\nGenerative\\nAI,\\npaving\\nthe\\nway\\nfor\\nadvanced\\nstudies\\nor\\ncareer\\nopportunities.\\n●\\nAcquired\\nskills\\nthat\\nare\\nhighly\\nsought\\nafter\\nin\\nthe\\ntechnology\\nindustry,\\npotentially\\nopening\\ndoors\\nto\\nnew\\njob\\nprospects.\\n●\\nBuilt\\na\\nrobust\\nportfolio\\nshowcasing\\nyour\\nprojects,\\nserving\\nas\\na\\ntestament\\nto\\nyour\\nexpertise\\nand\\ncreativity\\nFee\\nStructure\\nThe\\ncourse\\nis\\npriced\\nat\\nRs\\n20,000\\n10,000\\n(An\\nexclusive\\n50%\\ndiscount\\nfor\\nthe\\nfirst\\ncohort)\\nContact\\nUs\\nfor\\nRegistration\\nFor\\nany\\nqueries\\nregarding\\nthe\\ncourse,\\nfeel\\nfree\\nto\\ncontact\\nSatvik\\n(+91\\n798961716\\nor\\nsatvik@buildfastwithai.com\\n)\\nRegistration\\nthrough\\nwebsite\\n(coming\\nsoon)\\nRegistration\\nlink\\nwill\\nsoon\\nbe\\navailable\\non\\nthe\\nwebsite\\n1.\\nGo\\nto\\nbuildfastwithai.com/genai-course\\n2.\\nLogin/Sign\\nup\\nusing\\nGoogle\\nor\\nEmail\\n3.\\nFollow\\nthe\\nStripe\\nPayment\\n4.\\nYou\\nwill\\nreceive\\na\\nconfirmation\\nemail', metadata={'source': '/content/GenAI_CrashCourse_Info.pdf', 'page': 4}), Document(page_content=\"About\\nthe\\nMentor\\nS a t v i k\\ni s\\nt h e\\nf o u n d e r\\no f\\nB u i l d\\nF a s t\\nw i t h\\nA I\\na n d\\nt h e\\nl e a d\\nm e n t o r\\nf o r\\nt h i s\\nc o u r s e .\\nH o l d i n g\\nb o t h\\na\\nB a c h e l o r ' s\\na n d\\nM a s t e r ' s\\nd e g r e e\\nf r o m\\nI I T\\nD e l h i ,\\nh e\\nh a s\\no v e r\\n4\\ny e a r s\\no f\\ne x p e r i e n c e\\ni n\\nd a t a\\ns c i e n c e\\na n d\\nm a c h i n e\\nl e a r n i n g .\\nS a t v i k\\ni s\\na\\nl e a d i n g\\nc o n s u l t a n t\\ni n\\ng e n e r a t i v e\\nA I\\na n d\\nh a s\\nh e l p e d\\nn u m e r o u s\\ns t a r t u p s\\ns u c c e s s f u l l y\\ni m p l e m e n t\\nA I\\nf e a t u r e s .\\nH a v i n g\\nc o a c h e d\\no v e r\\n3 , 0 0 0\\np e o p l e\\no n\\nl e v e r a g i n g\\ng e n e r a t i v e\\nA I ,\\nS a t v i k\\nﬁ r m l y\\nb e l i e v e s\\ni n\\n' L e a r n i n g\\nb y\\nD o i n g '\\na n d\\ne m p h a s i z e s\\np r a c t i c a l\\na p p l i c a t i o n\\ni n\\nh i s\\nc o u r s e s\\nt o\\ne n s u r e\\nl e a r n e r s\\nc a n\\na p p l y\\nt h e i r\\ns k i l l s\\ni n\\nr e a l - w o r l d\\ns c e n a r i o s .\\nFrequently\\nAsked\\nQuestions\\n(FAQs)\\n \\nWhat\\nis\\nthe\\nfee\\nfor\\nthis\\ncourse?\\n●\\nThe\\nfee\\nfor\\nthis\\ncomprehensive\\n4-week\\ncourse\\nis\\nRs\\n20,000.\\nThis\\nfee\\ncovers\\nall\\nthe\\ninstructional\\nmaterials,\\nhands-on\\nsessions,\\nand\\nprojects\\nyou\\nwill\\nundertake\\nduring\\nthe\\ncourse\\n \\nWho\\nis\\nthis\\ncourse\\ndesigned\\nfor?\\n●\\nThis\\ncourse\\nis\\nsuitable\\nfor\\nindividuals\\nwith\\na\\nkeen\\ninterest\\nin\\nAI,\\nincluding\\nstudents,\\nprofessionals,\\nand\\nenthusiasts\\nlooking\\nto\\nbuild\\napplications\\nusing\\nGenerative\\nAI.\\nA\\nbasic\\nunderstanding\\nof\\nPython\\nprogramming\\nwould\\nbe\\nbeneficial\\nbut\\nis\\nnot\\nmandatory.\\n \\nWill\\nthere\\nbe\\nany\\nprojects\\nor\\npractical\\nsessions\\nincluded\\nin\\nthe\\ncourse?\\n●\\nAbsolutely!\\nThe\\ncourse\\nemphasizes\\nhands-on\\nlearning,\\nand\\nyou\\nwill\\nbe\\nbuilding\\nseveral\\napplications\\nas\\na\\npart\\nof\\nthe\\ncurriculum,\\nincluding\\nan\\nEmail\\nGeneration\\n\", metadata={'source': '/content/GenAI_CrashCourse_Info.pdf', 'page': 5}), Document(page_content=\"App,\\nChatGPT\\nReplica,\\na\\nStory\\nTelling\\nApp,\\na\\nChat\\nwith\\nPDF\\napplication,\\nand\\nmore.\\n \\nWhat\\nwill\\nI\\nachieve\\nby\\nthe\\nend\\nof\\nthis\\ncourse?\\n●\\nBy\\nthe\\nend\\nof\\nthe\\ncourse,\\nyou\\nwill\\nhave\\na\\nsolid\\nunderstanding\\nof\\nGenerative\\nAI,\\nalong\\nwith\\nexperience\\nin\\nbuilding\\nreal-world\\napplications.\\nYou\\nwill\\nalso\\ndevelop\\na\\npersonal\\nAI\\nroadmap\\nto\\nguide\\nyour\\nfurther\\nlearning\\nand\\ncareer\\naspirations\\nin\\nthe\\nAI\\nfield.\\n \\nIs\\nthere\\nany\\ncertification\\nprovided\\nat\\nthe\\nend\\nof\\nthe\\ncourse?\\n●\\nYes,\\nupon\\nsuccessful\\ncompletion\\nof\\nthe\\ncourse,\\nyou\\nwill\\nreceive\\na\\ncertificate\\nacknowledging\\nyour\\nproficiency\\nand\\nthe\\nskills\\nacquired\\nduring\\nthe\\ncourse.\\n \\nWhat\\nif\\nI\\nmiss\\na\\nclass?\\n●\\nWhile\\nwe\\nencourage\\nall\\nparticipants\\nto\\nattend\\neach\\nsession\\nto\\nmake\\nthe\\nmost\\nout\\nof\\nthis\\nlearning\\nexperience,\\nwe\\nunderstand\\nthat\\nconflicts\\ncan\\narise.\\nWe\\nwill\\nprovide\\nrecordings\\nof\\nthe\\nclasses\\nso\\nthat\\nyou\\ncan\\ncatch\\nup\\non\\nwhat\\nyou\\nmissed\\nat\\nyour\\nconvenience.\\n \\nHow\\ncan\\nI\\nget\\nin\\ntouch\\nfor\\nfurther\\nqueries?\\n●\\nFor\\nany\\nfurther\\nqueries,\\nyou\\ncan\\nreach\\nout\\nto\\nus\\nat\\n[\\nContact\\nEmail/Phone].\\nWe're\\nhere\\nto\\nassist\\nyou\\non\\nyour\\njourney\\nto\\nmastering\\nGenerative\\nAI!\", metadata={'source': '/content/GenAI_CrashCourse_Info.pdf', 'page': 6})]\n"
          ]
        }
      ]
    },
    {
      "cell_type": "code",
      "source": [
        "stuff_chain.invoke(pdf_docs)"
      ],
      "metadata": {
        "colab": {
          "base_uri": "https://localhost:8080/",
          "height": 125
        },
        "id": "zyADvEB0Crav",
        "outputId": "c2660f3b-7350-4af3-8e5b-98e9c4a6c7a7"
      },
      "execution_count": null,
      "outputs": [
        {
          "output_type": "execute_result",
          "data": {
            "text/plain": [
              "'- This 4-week course provides a comprehensive introduction to Generative AI and its applications in real-world scenarios.\\n- It is designed for aspiring AI developers, professionals, students, and hobbyists with a basic understanding of Python programming.\\n- The course includes project-based learning, hands-on experience, and a curriculum aligned with industry demands.\\n- Participants will build two real-world projects and receive a certificate upon successful completion.\\n- The course fee is Rs 20,000 (with a 50% discount for the first cohort), and registration is available through the website.\\n- The course is led by Satvik, an experienced data scientist and Generative AI consultant, who emphasizes practical application and learning by doing.\\n- Frequently asked questions address course fees, target audience, projects, learning outcomes, certification, missed classes, and contact information for further queries.'"
            ],
            "application/vnd.google.colaboratory.intrinsic+json": {
              "type": "string"
            }
          },
          "metadata": {},
          "execution_count": 23
        }
      ]
    },
    {
      "cell_type": "markdown",
      "source": [
        "## Query the Document"
      ],
      "metadata": {
        "id": "IPaAC6bJRdxE"
      }
    },
    {
      "cell_type": "code",
      "source": [
        "query_prompt_template = \"\"\"\n",
        "\n",
        "<<\n",
        "\"{text}\"\n",
        ">>\n",
        "\n",
        "Use the above information as a context to the answer the following query:\n",
        "\"{query}\"\n",
        "\"\"\"\n",
        "\n",
        "query_prompt = PromptTemplate.from_template(query_prompt_template)\n",
        "\n",
        "print(query_prompt)"
      ],
      "metadata": {
        "colab": {
          "base_uri": "https://localhost:8080/"
        },
        "id": "HBeutN4KQule",
        "outputId": "f1a42252-cbb3-495f-da49-42cf2a70ee87"
      },
      "execution_count": null,
      "outputs": [
        {
          "output_type": "stream",
          "name": "stdout",
          "text": [
            "input_variables=['query', 'text'] template='\\n\\n<<\\n\"{text}\"\\n>>\\n\\nUse the above information as a context to the answer the following query:\\n\"{query}\"\\n'\n"
          ]
        }
      ]
    },
    {
      "cell_type": "code",
      "source": [
        "query_stuff_chain = (\n",
        "      # Extract data from the documents and add to the key `text`.\n",
        "      {\n",
        "          \"text\": lambda docs: \"\\n\\n\".join(\n",
        "              format_document(doc, doc_prompt) for doc in docs\n",
        "          ),\n",
        "          \"query\" : \"How can I benefit from this course?\"\n",
        "      }\n",
        "      | llm_prompt         # Prompt for Gemini\n",
        "      | llm                # Gemini function\n",
        "      | StrOutputParser()  # output parser\n",
        "  )"
      ],
      "metadata": {
        "colab": {
          "base_uri": "https://localhost:8080/",
          "height": 399
        },
        "id": "RCB5z3tYT136",
        "outputId": "ce81e9ff-e165-47a2-81d2-441603754d92"
      },
      "execution_count": null,
      "outputs": [
        {
          "output_type": "error",
          "ename": "TypeError",
          "evalue": "Expected a Runnable, callable or dict.Instead got an unsupported type: <class 'str'>",
          "traceback": [
            "\u001b[0;31m---------------------------------------------------------------------------\u001b[0m",
            "\u001b[0;31mTypeError\u001b[0m                                 Traceback (most recent call last)",
            "\u001b[0;32m<ipython-input-27-f67aede1e470>\u001b[0m in \u001b[0;36m<cell line: 4>\u001b[0;34m()\u001b[0m\n\u001b[1;32m      1\u001b[0m query_stuff_chain = (\n\u001b[1;32m      2\u001b[0m       \u001b[0;31m# Extract data from the documents and add to the key `text`.\u001b[0m\u001b[0;34m\u001b[0m\u001b[0;34m\u001b[0m\u001b[0m\n\u001b[0;32m----> 3\u001b[0;31m       {\n\u001b[0m\u001b[1;32m      4\u001b[0m           \"text\": lambda docs: \"\\n\\n\".join(\n\u001b[1;32m      5\u001b[0m               \u001b[0mformat_document\u001b[0m\u001b[0;34m(\u001b[0m\u001b[0mdoc\u001b[0m\u001b[0;34m,\u001b[0m \u001b[0mdoc_prompt\u001b[0m\u001b[0;34m)\u001b[0m \u001b[0;32mfor\u001b[0m \u001b[0mdoc\u001b[0m \u001b[0;32min\u001b[0m \u001b[0mdocs\u001b[0m\u001b[0;34m\u001b[0m\u001b[0;34m\u001b[0m\u001b[0m\n",
            "\u001b[0;32m/usr/local/lib/python3.10/dist-packages/langchain_core/runnables/base.py\u001b[0m in \u001b[0;36m__ror__\u001b[0;34m(self, other)\u001b[0m\n\u001b[1;32m    434\u001b[0m     ) -> RunnableSerializable[Other, Output]:\n\u001b[1;32m    435\u001b[0m         \u001b[0;34m\"\"\"Compose this runnable with another object to create a RunnableSequence.\"\"\"\u001b[0m\u001b[0;34m\u001b[0m\u001b[0;34m\u001b[0m\u001b[0m\n\u001b[0;32m--> 436\u001b[0;31m         \u001b[0;32mreturn\u001b[0m \u001b[0mRunnableSequence\u001b[0m\u001b[0;34m(\u001b[0m\u001b[0mcoerce_to_runnable\u001b[0m\u001b[0;34m(\u001b[0m\u001b[0mother\u001b[0m\u001b[0;34m)\u001b[0m\u001b[0;34m,\u001b[0m \u001b[0mself\u001b[0m\u001b[0;34m)\u001b[0m\u001b[0;34m\u001b[0m\u001b[0;34m\u001b[0m\u001b[0m\n\u001b[0m\u001b[1;32m    437\u001b[0m \u001b[0;34m\u001b[0m\u001b[0m\n\u001b[1;32m    438\u001b[0m     def pipe(\n",
            "\u001b[0;32m/usr/local/lib/python3.10/dist-packages/langchain_core/runnables/base.py\u001b[0m in \u001b[0;36mcoerce_to_runnable\u001b[0;34m(thing)\u001b[0m\n\u001b[1;32m   4189\u001b[0m         \u001b[0;32mreturn\u001b[0m \u001b[0mRunnableLambda\u001b[0m\u001b[0;34m(\u001b[0m\u001b[0mcast\u001b[0m\u001b[0;34m(\u001b[0m\u001b[0mCallable\u001b[0m\u001b[0;34m[\u001b[0m\u001b[0;34m[\u001b[0m\u001b[0mInput\u001b[0m\u001b[0;34m]\u001b[0m\u001b[0;34m,\u001b[0m \u001b[0mOutput\u001b[0m\u001b[0;34m]\u001b[0m\u001b[0;34m,\u001b[0m \u001b[0mthing\u001b[0m\u001b[0;34m)\u001b[0m\u001b[0;34m)\u001b[0m\u001b[0;34m\u001b[0m\u001b[0;34m\u001b[0m\u001b[0m\n\u001b[1;32m   4190\u001b[0m     \u001b[0;32melif\u001b[0m \u001b[0misinstance\u001b[0m\u001b[0;34m(\u001b[0m\u001b[0mthing\u001b[0m\u001b[0;34m,\u001b[0m \u001b[0mdict\u001b[0m\u001b[0;34m)\u001b[0m\u001b[0;34m:\u001b[0m\u001b[0;34m\u001b[0m\u001b[0;34m\u001b[0m\u001b[0m\n\u001b[0;32m-> 4191\u001b[0;31m         \u001b[0;32mreturn\u001b[0m \u001b[0mcast\u001b[0m\u001b[0;34m(\u001b[0m\u001b[0mRunnable\u001b[0m\u001b[0;34m[\u001b[0m\u001b[0mInput\u001b[0m\u001b[0;34m,\u001b[0m \u001b[0mOutput\u001b[0m\u001b[0;34m]\u001b[0m\u001b[0;34m,\u001b[0m \u001b[0mRunnableParallel\u001b[0m\u001b[0;34m(\u001b[0m\u001b[0mthing\u001b[0m\u001b[0;34m)\u001b[0m\u001b[0;34m)\u001b[0m\u001b[0;34m\u001b[0m\u001b[0;34m\u001b[0m\u001b[0m\n\u001b[0m\u001b[1;32m   4192\u001b[0m     \u001b[0;32melse\u001b[0m\u001b[0;34m:\u001b[0m\u001b[0;34m\u001b[0m\u001b[0;34m\u001b[0m\u001b[0m\n\u001b[1;32m   4193\u001b[0m         raise TypeError(\n",
            "\u001b[0;32m/usr/local/lib/python3.10/dist-packages/langchain_core/runnables/base.py\u001b[0m in \u001b[0;36m__init__\u001b[0;34m(self, _RunnableParallel__steps, **kwargs)\u001b[0m\n\u001b[1;32m   2480\u001b[0m         \u001b[0mmerged\u001b[0m\u001b[0;34m.\u001b[0m\u001b[0mupdate\u001b[0m\u001b[0;34m(\u001b[0m\u001b[0mkwargs\u001b[0m\u001b[0;34m)\u001b[0m\u001b[0;34m\u001b[0m\u001b[0;34m\u001b[0m\u001b[0m\n\u001b[1;32m   2481\u001b[0m         super().__init__(\n\u001b[0;32m-> 2482\u001b[0;31m             \u001b[0msteps\u001b[0m\u001b[0;34m=\u001b[0m\u001b[0;34m{\u001b[0m\u001b[0mkey\u001b[0m\u001b[0;34m:\u001b[0m \u001b[0mcoerce_to_runnable\u001b[0m\u001b[0;34m(\u001b[0m\u001b[0mr\u001b[0m\u001b[0;34m)\u001b[0m \u001b[0;32mfor\u001b[0m \u001b[0mkey\u001b[0m\u001b[0;34m,\u001b[0m \u001b[0mr\u001b[0m \u001b[0;32min\u001b[0m \u001b[0mmerged\u001b[0m\u001b[0;34m.\u001b[0m\u001b[0mitems\u001b[0m\u001b[0;34m(\u001b[0m\u001b[0;34m)\u001b[0m\u001b[0;34m}\u001b[0m\u001b[0;34m\u001b[0m\u001b[0;34m\u001b[0m\u001b[0m\n\u001b[0m\u001b[1;32m   2483\u001b[0m         )\n\u001b[1;32m   2484\u001b[0m \u001b[0;34m\u001b[0m\u001b[0m\n",
            "\u001b[0;32m/usr/local/lib/python3.10/dist-packages/langchain_core/runnables/base.py\u001b[0m in \u001b[0;36m<dictcomp>\u001b[0;34m(.0)\u001b[0m\n\u001b[1;32m   2480\u001b[0m         \u001b[0mmerged\u001b[0m\u001b[0;34m.\u001b[0m\u001b[0mupdate\u001b[0m\u001b[0;34m(\u001b[0m\u001b[0mkwargs\u001b[0m\u001b[0;34m)\u001b[0m\u001b[0;34m\u001b[0m\u001b[0;34m\u001b[0m\u001b[0m\n\u001b[1;32m   2481\u001b[0m         super().__init__(\n\u001b[0;32m-> 2482\u001b[0;31m             \u001b[0msteps\u001b[0m\u001b[0;34m=\u001b[0m\u001b[0;34m{\u001b[0m\u001b[0mkey\u001b[0m\u001b[0;34m:\u001b[0m \u001b[0mcoerce_to_runnable\u001b[0m\u001b[0;34m(\u001b[0m\u001b[0mr\u001b[0m\u001b[0;34m)\u001b[0m \u001b[0;32mfor\u001b[0m \u001b[0mkey\u001b[0m\u001b[0;34m,\u001b[0m \u001b[0mr\u001b[0m \u001b[0;32min\u001b[0m \u001b[0mmerged\u001b[0m\u001b[0;34m.\u001b[0m\u001b[0mitems\u001b[0m\u001b[0;34m(\u001b[0m\u001b[0;34m)\u001b[0m\u001b[0;34m}\u001b[0m\u001b[0;34m\u001b[0m\u001b[0;34m\u001b[0m\u001b[0m\n\u001b[0m\u001b[1;32m   2483\u001b[0m         )\n\u001b[1;32m   2484\u001b[0m \u001b[0;34m\u001b[0m\u001b[0m\n",
            "\u001b[0;32m/usr/local/lib/python3.10/dist-packages/langchain_core/runnables/base.py\u001b[0m in \u001b[0;36mcoerce_to_runnable\u001b[0;34m(thing)\u001b[0m\n\u001b[1;32m   4191\u001b[0m         \u001b[0;32mreturn\u001b[0m \u001b[0mcast\u001b[0m\u001b[0;34m(\u001b[0m\u001b[0mRunnable\u001b[0m\u001b[0;34m[\u001b[0m\u001b[0mInput\u001b[0m\u001b[0;34m,\u001b[0m \u001b[0mOutput\u001b[0m\u001b[0;34m]\u001b[0m\u001b[0;34m,\u001b[0m \u001b[0mRunnableParallel\u001b[0m\u001b[0;34m(\u001b[0m\u001b[0mthing\u001b[0m\u001b[0;34m)\u001b[0m\u001b[0;34m)\u001b[0m\u001b[0;34m\u001b[0m\u001b[0;34m\u001b[0m\u001b[0m\n\u001b[1;32m   4192\u001b[0m     \u001b[0;32melse\u001b[0m\u001b[0;34m:\u001b[0m\u001b[0;34m\u001b[0m\u001b[0;34m\u001b[0m\u001b[0m\n\u001b[0;32m-> 4193\u001b[0;31m         raise TypeError(\n\u001b[0m\u001b[1;32m   4194\u001b[0m             \u001b[0;34mf\"Expected a Runnable, callable or dict.\"\u001b[0m\u001b[0;34m\u001b[0m\u001b[0;34m\u001b[0m\u001b[0m\n\u001b[1;32m   4195\u001b[0m             \u001b[0;34mf\"Instead got an unsupported type: {type(thing)}\"\u001b[0m\u001b[0;34m\u001b[0m\u001b[0;34m\u001b[0m\u001b[0m\n",
            "\u001b[0;31mTypeError\u001b[0m: Expected a Runnable, callable or dict.Instead got an unsupported type: <class 'str'>"
          ]
        }
      ]
    },
    {
      "cell_type": "code",
      "source": [
        "# Create stuff document chain using LCEL\n",
        "\n",
        "def query_doc(query):\n",
        "  query_stuff_chain = (\n",
        "      # Extract data from the documents and add to the key `text`.\n",
        "      {\n",
        "          \"text\": lambda docs: \"\\n\\n\".join(\n",
        "              format_document(doc, doc_prompt) for doc in docs\n",
        "          ),\n",
        "          \"query\" : query\n",
        "      }\n",
        "      | llm_prompt         # Prompt for Gemini\n",
        "      | llm                # Gemini function\n",
        "      | StrOutputParser()  # output parser\n",
        "  )\n",
        "\n",
        "  query_stuff_chain.invoke()\n"
      ],
      "metadata": {
        "id": "5OrMtIHoSUA_"
      },
      "execution_count": null,
      "outputs": []
    }
  ]
}